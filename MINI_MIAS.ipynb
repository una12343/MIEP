{
  "nbformat": 4,
  "nbformat_minor": 0,
  "metadata": {
    "colab": {
      "provenance": [],
      "authorship_tag": "ABX9TyMudrjYIqsBaJ2rcZi0f7Lx",
      "include_colab_link": true
    },
    "kernelspec": {
      "name": "python3",
      "display_name": "Python 3"
    },
    "language_info": {
      "name": "python"
    }
  },
  "cells": [
    {
      "cell_type": "markdown",
      "metadata": {
        "id": "view-in-github",
        "colab_type": "text"
      },
      "source": [
        "<a href=\"https://colab.research.google.com/github/una12343/MIEP/blob/main/MINI_MIAS.ipynb\" target=\"_parent\"><img src=\"https://colab.research.google.com/assets/colab-badge.svg\" alt=\"Open In Colab\"/></a>"
      ]
    },
    {
      "cell_type": "markdown",
      "source": [
        "# **Izgradnja i Evaluacija Modela za Klasifikaciju Gustine Dojki**"
      ],
      "metadata": {
        "id": "XDfMJgVyQNED"
      }
    },
    {
      "cell_type": "markdown",
      "source": [
        "Ovaj rad opisuje proces izgradnje modela za klasifikaciju gustine dojki koristeći unapred trenirani VGG16 model. Dataset koji se koristi je Mini-MIAS, koji se sastoji od mamografskih slika klasifikovanih u četiri gustinske klase: A, B, C i D. Proces uključuje pripremu podataka, treniranje modela i evaluaciju, sa posebnim fokusom na računanje i interpretaciju matrice konfuzije kako bi se procenila performansa modela."
      ],
      "metadata": {
        "id": "ApUMA974QPpz"
      }
    },
    {
      "cell_type": "markdown",
      "source": [
        "Kako se dataset učitava na google drive-u potrebno je i povezati sa istim"
      ],
      "metadata": {
        "id": "Tcs_p2qFQVIC"
      }
    },
    {
      "cell_type": "code",
      "source": [
        "from google.colab import drive\n",
        "drive.mount('/content/drive')\n"
      ],
      "metadata": {
        "colab": {
          "base_uri": "https://localhost:8080/"
        },
        "id": "eDS5z-LXOLcl",
        "outputId": "34634660-c1d8-4a38-badc-fc8db3822fe0"
      },
      "execution_count": 1,
      "outputs": [
        {
          "output_type": "stream",
          "name": "stdout",
          "text": [
            "Mounted at /content/drive\n"
          ]
        }
      ]
    },
    {
      "cell_type": "markdown",
      "source": [
        "Definišemo putanje za ulazni dataset i izlazni direktorijum gde ćemo smestiti procesirane podatke. Zatim kreiramo potrebne direktorijume za trening i test setove unutar izlaznog direktorijuma.\n",
        "\n",
        "Definišemo klase gustine dojki (A, B, C, D) i kreiramo odgovarajuće direktorijume unutar trening i test setova.\n",
        "\n",
        "Iteriramo kroz sve slike u dataset-u, ekstraktujemo broj iz imena fajla i raspodeljujemo slike u odgovarajuće klase koristeći modulo operaciju.\n",
        "Modulo operacija je jednostavan način da ravnomerno raspodelimo slike u više klasa. U ovom slučaju, delimo slike u četiri klase (A, B, C, D) na osnovu ostatka pri deljenju broja slike sa 4. Ovaj pristup osigurava da svaka klasa dobije približno jednak broj slika, što je važno za balansiranost treninga modela."
      ],
      "metadata": {
        "id": "aA3CiNlQRJsz"
      }
    },
    {
      "cell_type": "code",
      "execution_count": 4,
      "metadata": {
        "colab": {
          "base_uri": "https://localhost:8080/"
        },
        "id": "l_CtXEkeN-8R",
        "outputId": "38983232-1dc2-453c-ead7-60a725647187"
      },
      "outputs": [
        {
          "output_type": "stream",
          "name": "stdout",
          "text": [
            "Slike su uspešno podeljene i kopirane u odgovarajuće direktorijume.\n"
          ]
        }
      ],
      "source": [
        "import os\n",
        "import shutil\n",
        "from sklearn.model_selection import train_test_split\n",
        "\n",
        "# Pretpostavljamo da su slike u direktorijumu \"Mini-MIAS\"\n",
        "dataset_dir = '/content/drive/My Drive/Mini-MIAS/'\n",
        "output_dir = '/content/drive/My Drive/Mini-MIAS_processed/'\n",
        "\n",
        "# Kreiranje izlaznih direktorijuma za trening i test setove\n",
        "train_dir = os.path.join(output_dir, 'train')\n",
        "test_dir = os.path.join(output_dir, 'test')\n",
        "os.makedirs(train_dir, exist_ok=True)\n",
        "os.makedirs(test_dir, exist_ok=True)\n",
        "\n",
        "classes = ['A', 'B', 'C', 'D']  # Klase gustine dojki\n",
        "for cls in classes:\n",
        "    os.makedirs(os.path.join(train_dir, cls), exist_ok=True)\n",
        "    os.makedirs(os.path.join(test_dir, cls), exist_ok=True)\n",
        "\n",
        "# Sortiranje slika po klasama\n",
        "file_paths = []\n",
        "file_labels = []\n",
        "\n",
        "for filename in os.listdir(dataset_dir):\n",
        "    if filename.endswith('.pgm') and filename.startswith('mdb'):\n",
        "        # Ekstrakcija broja iz imena fajla\n",
        "        file_number = int(filename[3:6])\n",
        "\n",
        "        # Raspodela slika po klasama koristeći modulo operaciju\n",
        "        if file_number % 4 == 0:\n",
        "            class_label = 'A'\n",
        "        elif file_number % 4 == 1:\n",
        "            class_label = 'B'\n",
        "        elif file_number % 4 == 2:\n",
        "            class_label = 'C'\n",
        "        else:\n",
        "            class_label = 'D'\n",
        "\n",
        "        file_paths.append(os.path.join(dataset_dir, filename))\n",
        "        file_labels.append(class_label)\n",
        "\n",
        "# Podela na trening i test setove\n",
        "train_files, test_files, train_labels, test_labels = train_test_split(file_paths, file_labels, test_size=0.2, stratify=file_labels, random_state=42)\n",
        "\n",
        "# Kopiranje slika u odgovarajuće direktorijume\n",
        "for file, label in zip(train_files, train_labels):\n",
        "    dst = os.path.join(train_dir, label, os.path.basename(file))\n",
        "    shutil.copyfile(file, dst)\n",
        "\n",
        "for file, label in zip(test_files, test_labels):\n",
        "    dst = os.path.join(test_dir, label, os.path.basename(file))\n",
        "    shutil.copyfile(file, dst)\n",
        "\n",
        "print(\"Slike su uspešno podeljene i kopirane u odgovarajuće direktorijume.\")"
      ]
    },
    {
      "cell_type": "markdown",
      "source": [
        "Definišemo ključne parametre kao što su dimenzije slika, veličina batch-a i broj klasa.\n",
        "Navodimo putanje direktorijuma za dataset i procesirane podatke.Definišemo klase za gustinu dojki i kreiramo funkciju za konverziju PGM slika u RGB format, kako su slike u pgm formatu.\n",
        "Zatim dijelimo dataset na trening i test skupove uz održavanje distribucije klasa.\n",
        "Konvertujemo slike iz PGM u RGB format i čuvamo ih u odgovarajućim direktorijumima."
      ],
      "metadata": {
        "id": "6R8pQyNKU87J"
      }
    },
    {
      "cell_type": "code",
      "source": [
        "import os\n",
        "import cv2\n",
        "import numpy as np\n",
        "import matplotlib.pyplot as plt\n",
        "from sklearn.model_selection import train_test_split\n",
        "from tensorflow.keras.preprocessing.image import ImageDataGenerator\n",
        "from tensorflow.keras.models import Sequential\n",
        "from tensorflow.keras.layers import Conv2D, MaxPooling2D, Flatten, Dense, Dropout, GlobalAveragePooling2D\n",
        "from tensorflow.keras.optimizers import Adam\n",
        "from tensorflow.keras.callbacks import EarlyStopping, ModelCheckpoint, TensorBoard\n",
        "from tensorflow.keras.applications import VGG16\n",
        "import datetime\n",
        "\n",
        "# Parametri\n",
        "img_height, img_width = 224, 224\n",
        "batch_size = 16\n",
        "num_classes = 4  # Broj klasa gustine\n",
        "\n",
        "# Putanje direktorijuma\n",
        "dataset_dir = '/content/drive/My Drive/Mini-MIAS/'\n",
        "output_dir = '/content/drive/My Drive/Mini-MIAS_processed/'\n",
        "\n",
        "# Kreiranje izlaznih direktorijuma za trening i test setove\n",
        "train_dir = os.path.join(output_dir, 'train')\n",
        "test_dir = os.path.join(output_dir, 'test')\n",
        "os.makedirs(train_dir, exist_ok=True)\n",
        "os.makedirs(test_dir, exist_ok=True)\n",
        "\n",
        "# Definisanje lista klasa\n",
        "classes = ['A', 'B', 'C', 'D']\n",
        "\n",
        "# Funkcija za konverziju slike iz PGM u RGB format\n",
        "def pgm_to_rgb(pgm_image_path):\n",
        "    pgm_image = cv2.imread(pgm_image_path, cv2.IMREAD_GRAYSCALE)\n",
        "    rgb_image = cv2.cvtColor(pgm_image, cv2.COLOR_GRAY2RGB)\n",
        "    return rgb_image\n",
        "\n",
        "# Sakupljanje putanja i labela\n",
        "file_paths = []\n",
        "file_labels = []\n",
        "\n",
        "for filename in os.listdir(dataset_dir):\n",
        "    if filename.endswith('.pgm') and filename.startswith('mdb'):\n",
        "        file_number = int(filename[3:6])\n",
        "        class_label = classes[file_number % 4]\n",
        "\n",
        "        file_paths.append(os.path.join(dataset_dir, filename))\n",
        "        file_labels.append(class_label)\n",
        "\n",
        "# Podela na trening i test skupove\n",
        "train_files, test_files, train_labels, test_labels = train_test_split(file_paths, file_labels, test_size=0.2, stratify=file_labels, random_state=42)\n",
        "\n",
        "# Konverzija i čuvanje slika u odgovarajućim direktorijumima\n",
        "def convert_and_save_images(files, labels, output_directory):\n",
        "    for file, label in zip(files, labels):\n",
        "        dst = os.path.join(output_directory, label, os.path.basename(file).replace('.pgm', '.jpg'))\n",
        "        rgb_image = pgm_to_rgb(file)\n",
        "        cv2.imwrite(dst, rgb_image)\n",
        "\n",
        "convert_and_save_images(train_files, train_labels, train_dir)\n",
        "convert_and_save_images(test_files, test_labels, test_dir)\n"
      ],
      "metadata": {
        "id": "I0NfF8TCO4aR"
      },
      "execution_count": 5,
      "outputs": []
    },
    {
      "cell_type": "markdown",
      "source": [
        "Definisanje ImageDataGenerator-a za Trening i Test Skupove\n",
        "\n",
        "Primenujemo augmentaciju podataka na trening skup kako bismo poboljšali generalizaciju modela i reskaliramo slike za trening i test skupove.\n",
        "\n",
        "Kreiramo generatore podataka za trening i validacioni (test) skup.\n",
        "\n",
        "oristimo unapred trenirani VGG16 model za ekstrakciju karakteristika. VGG16 model je treniran na ImageNet dataset-u i uključuje samo konvolucione slojeve (bez gornjih slojeva).\n",
        "\n",
        "Zamrzavamo početne slojeve modela i dodajemo nove slojeve za klasifikaciju.\n",
        "Kompilujemo model koristeći Adam optimizator i kategorijalni unakrsni entropijski gubitak i definišemo callback-ove za rano zaustavljanje, čuvanje najboljeg modela i TensorBoard logovanje."
      ],
      "metadata": {
        "id": "TMCRADdEVq32"
      }
    },
    {
      "cell_type": "code",
      "source": [
        "from tensorflow.keras import regularizers  # Dodatni import za regularizers\n",
        "\n",
        "# Parametri\n",
        "img_height, img_width = 224, 224\n",
        "batch_size = 16\n",
        "num_classes = 4  # Broj klasa gustine\n",
        "\n",
        "# Putanje direktorijuma\n",
        "dataset_dir = '/content/drive/My Drive/Mini-MIAS/'\n",
        "output_dir = '/content/drive/My Drive/Mini-MIAS_processed/'\n",
        "\n",
        "# Kreiranje izlaznih direktorijuma za trening i test setove\n",
        "train_dir = os.path.join(output_dir, 'train')\n",
        "test_dir = os.path.join(output_dir, 'test')\n",
        "os.makedirs(train_dir, exist_ok=True)\n",
        "os.makedirs(test_dir, exist_ok=True)\n",
        "\n",
        "# Definisanje lista klasa\n",
        "classes = ['A', 'B', 'C', 'D']\n",
        "\n",
        "# Funkcija za konverziju slike iz PGM u RGB format\n",
        "def pgm_to_rgb(pgm_image_path):\n",
        "    pgm_image = cv2.imread(pgm_image_path, cv2.IMREAD_GRAYSCALE)\n",
        "    rgb_image = cv2.cvtColor(pgm_image, cv2.COLOR_GRAY2RGB)\n",
        "    return rgb_image\n",
        "\n",
        "# Sakupljanje putanja i labela\n",
        "file_paths = []\n",
        "file_labels = []\n",
        "\n",
        "for filename in os.listdir(dataset_dir):\n",
        "    if filename.endswith('.pgm') and filename.startswith('mdb'):\n",
        "        file_number = int(filename[3:6])\n",
        "        class_label = classes[file_number % 4]\n",
        "\n",
        "        file_paths.append(os.path.join(dataset_dir, filename))\n",
        "        file_labels.append(class_label)\n",
        "\n",
        "# Podela na trening i test skupove\n",
        "train_files, test_files, train_labels, test_labels = train_test_split(file_paths, file_labels, test_size=0.2, stratify=file_labels, random_state=42)\n",
        "\n",
        "# Konverzija i čuvanje slika u odgovarajućim direktorijumima\n",
        "def convert_and_save_images(files, labels, output_directory):\n",
        "    for file, label in zip(files, labels):\n",
        "        dst = os.path.join(output_directory, label, os.path.basename(file).replace('.pgm', '.jpg'))\n",
        "        rgb_image = pgm_to_rgb(file)\n",
        "        cv2.imwrite(dst, rgb_image)\n",
        "\n",
        "convert_and_save_images(train_files, train_labels, train_dir)\n",
        "convert_and_save_images(test_files, test_labels, test_dir)\n",
        "\n",
        "# Definisanje ImageDataGenerator-a za augmentaciju podataka\n",
        "train_datagen = ImageDataGenerator(\n",
        "    rescale=1./255,\n",
        "    shear_range=0.2,\n",
        "    zoom_range=0.2,\n",
        "    horizontal_flip=True,\n",
        "    rotation_range=20,\n",
        "    width_shift_range=0.2,\n",
        "    height_shift_range=0.2\n",
        ")\n",
        "\n",
        "test_datagen = ImageDataGenerator(rescale=1./255)\n",
        "\n",
        "# Kreiranje generatorskih objekata\n",
        "train_generator = train_datagen.flow_from_directory(\n",
        "    train_dir,\n",
        "    target_size=(img_height, img_width),\n",
        "    batch_size=batch_size,\n",
        "    class_mode='categorical',\n",
        "    color_mode='rgb'\n",
        ")\n",
        "\n",
        "validation_generator = test_datagen.flow_from_directory(\n",
        "    test_dir,\n",
        "    target_size=(img_height, img_width),\n",
        "    batch_size=batch_size,\n",
        "    class_mode='categorical',\n",
        "    color_mode='rgb'\n",
        ")\n",
        "\n",
        "# Definisanje modela sa unapred treniranim VGG16 modelom\n",
        "base_model = VGG16(weights='imagenet', include_top=False, input_shape=(img_height, img_width, 3))\n",
        "\n",
        "model = Sequential([\n",
        "    base_model,\n",
        "    Flatten(),\n",
        "    Dense(512, activation='relu', kernel_regularizer=regularizers.l2(0.01)),\n",
        "    Dropout(0.5),\n",
        "    Dense(num_classes, activation='softmax')\n",
        "])\n",
        "\n",
        "# Odmrzavanje poslednjih nekoliko slojeva VGG16 modela\n",
        "fine_tune_at = 15\n",
        "for layer in base_model.layers[:fine_tune_at]:\n",
        "    layer.trainable = False\n",
        "\n",
        "# Kompilacija modela\n",
        "model.compile(optimizer=Adam(learning_rate=1e-4), loss='categorical_crossentropy', metrics=['accuracy'])\n",
        "\n",
        "# Definisanje callback-ova\n",
        "log_dir = \"/content/drive/My Drive/logs/fit/\" + datetime.datetime.now().strftime(\"%Y%m%d-%H%M%S\")\n",
        "tensorboard_callback = TensorBoard(log_dir=log_dir, histogram_freq=1)\n",
        "early_stopping = EarlyStopping(monitor='val_loss', patience=5, restore_best_weights=True)\n",
        "model_checkpoint = ModelCheckpoint('/content/drive/My Drive/breast_density_model.h5', save_best_only=True)\n",
        "\n",
        "callbacks = [early_stopping, model_checkpoint, tensorboard_callback]"
      ],
      "metadata": {
        "colab": {
          "base_uri": "https://localhost:8080/"
        },
        "id": "MliR8KaxPRN_",
        "outputId": "533a4c0d-0c98-40f7-d396-dd8c222bf81d"
      },
      "execution_count": 12,
      "outputs": [
        {
          "output_type": "stream",
          "name": "stdout",
          "text": [
            "Found 257 images belonging to 4 classes.\n",
            "Found 65 images belonging to 4 classes.\n"
          ]
        }
      ]
    },
    {
      "cell_type": "markdown",
      "source": [
        "Treniramo model koristeći generatore podataka i definišemo broj epoha u ovom slučaju 50 epoha.\n",
        "\n",
        "Prikazujemo grafikone gubitka i tačnosti tokom treninga.\n",
        "\n",
        "\n"
      ],
      "metadata": {
        "id": "zyZxJFZ7WLh7"
      }
    },
    {
      "cell_type": "markdown",
      "source": [
        "Dodali smo dodatni Dense sloj sa 512 jedinica, zatim još jedan Dense sloj sa 256 jedinica nakon toga. Odmrzli smo sve slojeve u osnovnom modelu VGG16 i povećali stopu učenja optimizer-a Adam. T"
      ],
      "metadata": {
        "id": "YBCfMWlBbxds"
      }
    },
    {
      "cell_type": "code",
      "source": [
        "# Parametri\n",
        "img_height, img_width = 224, 224\n",
        "batch_size = 16\n",
        "num_classes = 4  # Broj klasa gustine\n",
        "\n",
        "# Putanje direktorijuma\n",
        "dataset_dir = '/content/drive/My Drive/Mini-MIAS/'\n",
        "output_dir = '/content/drive/My Drive/Mini-MIAS_processed/'\n",
        "\n",
        "# Kreiranje izlaznih direktorijuma za trening i test setove\n",
        "train_dir = os.path.join(output_dir, 'train')\n",
        "test_dir = os.path.join(output_dir, 'test')\n",
        "os.makedirs(train_dir, exist_ok=True)\n",
        "os.makedirs(test_dir, exist_ok=True)\n",
        "\n",
        "# Definisanje lista klasa\n",
        "classes = ['A', 'B', 'C', 'D']\n",
        "\n",
        "# Funkcija za konverziju slike iz PGM u RGB format\n",
        "def pgm_to_rgb(pgm_image_path):\n",
        "    pgm_image = cv2.imread(pgm_image_path, cv2.IMREAD_GRAYSCALE)\n",
        "    rgb_image = cv2.cvtColor(pgm_image, cv2.COLOR_GRAY2RGB)\n",
        "    return rgb_image\n",
        "\n",
        "# Sakupljanje putanja i labela\n",
        "file_paths = []\n",
        "file_labels = []\n",
        "\n",
        "for filename in os.listdir(dataset_dir):\n",
        "    if filename.endswith('.pgm') and filename.startswith('mdb'):\n",
        "        file_number = int(filename[3:6])\n",
        "        class_label = classes[file_number % 4]\n",
        "\n",
        "        file_paths.append(os.path.join(dataset_dir, filename))\n",
        "        file_labels.append(class_label)\n",
        "\n",
        "# Podela na trening i test skupove\n",
        "train_files, test_files, train_labels, test_labels = train_test_split(file_paths, file_labels, test_size=0.2, stratify=file_labels, random_state=42)\n",
        "\n",
        "# Konverzija i čuvanje slika u odgovarajućim direktorijumima\n",
        "def convert_and_save_images(files, labels, output_directory):\n",
        "    for file, label in zip(files, labels):\n",
        "        dst = os.path.join(output_directory, label, os.path.basename(file).replace('.pgm', '.jpg'))\n",
        "        rgb_image = pgm_to_rgb(file)\n",
        "        cv2.imwrite(dst, rgb_image)\n",
        "\n",
        "convert_and_save_images(train_files, train_labels, train_dir)\n",
        "convert_and_save_images(test_files, test_labels, test_dir)\n",
        "\n",
        "# Definisanje ImageDataGenerator-a za augmentaciju podataka\n",
        "train_datagen = ImageDataGenerator(\n",
        "    rescale=1./255,\n",
        "    shear_range=0.2,\n",
        "    zoom_range=0.2,\n",
        "    horizontal_flip=True,\n",
        "    rotation_range=20,\n",
        "    width_shift_range=0.2,\n",
        "    height_shift_range=0.2\n",
        ")\n",
        "\n",
        "test_datagen = ImageDataGenerator(rescale=1./255)\n",
        "\n",
        "# Kreiranje generatorskih objekata\n",
        "train_generator = train_datagen.flow_from_directory(\n",
        "    train_dir,\n",
        "    target_size=(img_height, img_width),\n",
        "    batch_size=batch_size,\n",
        "    class_mode='categorical',\n",
        "    color_mode='rgb'\n",
        ")\n",
        "\n",
        "validation_generator = test_datagen.flow_from_directory(\n",
        "    test_dir,\n",
        "    target_size=(img_height, img_width),\n",
        "    batch_size=batch_size,\n",
        "    class_mode='categorical',\n",
        "    color_mode='rgb'\n",
        ")\n",
        "\n",
        "# Definisanje modela sa unapred treniranim VGG16 modelom\n",
        "base_model = VGG16(weights='imagenet', include_top=False, input_shape=(img_height, img_width, 3))\n",
        "\n",
        "model = Sequential([\n",
        "    base_model,\n",
        "    Flatten(),\n",
        "    Dense(512, activation='relu'),\n",
        "    Dropout(0.5),\n",
        "    Dense(256, activation='relu'),\n",
        "    Dropout(0.5),\n",
        "    Dense(num_classes, activation='softmax')\n",
        "])\n",
        "\n",
        "# Odmrzavanje slojeva baznog modela\n",
        "base_model.trainable = True\n",
        "\n",
        "# Kompilacija modela\n",
        "model.compile(optimizer=Adam(learning_rate=1e-4), loss='categorical_crossentropy', metrics=['accuracy'])\n",
        "\n",
        "# Definisanje callback-ova\n",
        "log_dir = \"/content/drive/My Drive/logs/fit/\" + datetime.datetime.now().strftime(\"%Y%m%d-%H%M%S\")\n",
        "tensorboard_callback = TensorBoard(log_dir=log_dir, histogram_freq=1)\n",
        "early_stopping = EarlyStopping(monitor='val_loss', patience=5, restore_best_weights=True)\n",
        "model_checkpoint = ModelCheckpoint('/content/drive/My Drive/breast_density_model.h5', save_best_only=True)\n",
        "\n",
        "callbacks = [early_stopping, model_checkpoint, tensorboard_callback]"
      ],
      "metadata": {
        "colab": {
          "base_uri": "https://localhost:8080/"
        },
        "id": "g1iQ7oJkbZTT",
        "outputId": "1495a86d-c286-4cef-db72-272c5aef9aa0"
      },
      "execution_count": 14,
      "outputs": [
        {
          "output_type": "stream",
          "name": "stdout",
          "text": [
            "Found 257 images belonging to 4 classes.\n",
            "Found 65 images belonging to 4 classes.\n"
          ]
        }
      ]
    },
    {
      "cell_type": "markdown",
      "source": [
        "potencijalno resenje sa ResNet50"
      ],
      "metadata": {
        "id": "eFzJulWyc7Lr"
      }
    },
    {
      "cell_type": "code",
      "source": [
        "from tensorflow.keras.applications import ResNet50\n",
        "from tensorflow.keras.applications.resnet50 import preprocess_input\n",
        "\n",
        "# Parametri\n",
        "img_height, img_width = 224, 224\n",
        "batch_size = 16\n",
        "num_classes = 4  # Broj klasa gustine\n",
        "\n",
        "# Putanje direktorijuma\n",
        "dataset_dir = '/content/drive/My Drive/Mini-MIAS/'\n",
        "output_dir = '/content/drive/My Drive/Mini-MIAS_processed/'\n",
        "\n",
        "# Kreiranje izlaznih direktorijuma za trening i test setove\n",
        "train_dir = os.path.join(output_dir, 'train')\n",
        "test_dir = os.path.join(output_dir, 'test')\n",
        "os.makedirs(train_dir, exist_ok=True)\n",
        "os.makedirs(test_dir, exist_ok=True)\n",
        "\n",
        "# Definisanje lista klasa\n",
        "classes = ['A', 'B', 'C', 'D']\n",
        "\n",
        "# Funkcija za konverziju slike iz PGM u RGB format\n",
        "def pgm_to_rgb(pgm_image_path):\n",
        "    pgm_image = cv2.imread(pgm_image_path, cv2.IMREAD_GRAYSCALE)\n",
        "    rgb_image = cv2.cvtColor(pgm_image, cv2.COLOR_GRAY2RGB)\n",
        "    return rgb_image\n",
        "\n",
        "# Sakupljanje putanja i labela\n",
        "file_paths = []\n",
        "file_labels = []\n",
        "\n",
        "for filename in os.listdir(dataset_dir):\n",
        "    if filename.endswith('.pgm') and filename.startswith('mdb'):\n",
        "        file_number = int(filename[3:6])\n",
        "        class_label = classes[file_number % 4]\n",
        "\n",
        "        file_paths.append(os.path.join(dataset_dir, filename))\n",
        "        file_labels.append(class_label)\n",
        "\n",
        "# Podela na trening i test skupove\n",
        "train_files, test_files, train_labels, test_labels = train_test_split(file_paths, file_labels, test_size=0.2, stratify=file_labels, random_state=42)\n",
        "\n",
        "# Konverzija i čuvanje slika u odgovarajućim direktorijumima\n",
        "def convert_and_save_images(files, labels, output_directory):\n",
        "    for file, label in zip(files, labels):\n",
        "        dst = os.path.join(output_directory, label, os.path.basename(file).replace('.pgm', '.jpg'))\n",
        "        rgb_image = pgm_to_rgb(file)\n",
        "        cv2.imwrite(dst, rgb_image)\n",
        "\n",
        "convert_and_save_images(train_files, train_labels, train_dir)\n",
        "convert_and_save_images(test_files, test_labels, test_dir)\n",
        "\n",
        "# Definisanje ImageDataGenerator-a za augmentaciju podataka\n",
        "train_datagen = ImageDataGenerator(\n",
        "    preprocessing_function=preprocess_input,\n",
        "    rotation_range=20,\n",
        "    width_shift_range=0.2,\n",
        "    height_shift_range=0.2,\n",
        "    shear_range=0.2,\n",
        "    zoom_range=0.2,\n",
        "    horizontal_flip=True,\n",
        "    fill_mode='nearest'\n",
        ")\n",
        "\n",
        "test_datagen = ImageDataGenerator(preprocessing_function=preprocess_input)\n",
        "\n",
        "# Kreiranje generatorskih objekata\n",
        "train_generator = train_datagen.flow_from_directory(\n",
        "    train_dir,\n",
        "    target_size=(img_height, img_width),\n",
        "    batch_size=batch_size,\n",
        "    class_mode='categorical',\n",
        "    color_mode='rgb'\n",
        ")\n",
        "\n",
        "validation_generator = test_datagen.flow_from_directory(\n",
        "    test_dir,\n",
        "    target_size=(img_height, img_width),\n",
        "    batch_size=batch_size,\n",
        "    class_mode='categorical',\n",
        "    color_mode='rgb'\n",
        ")\n",
        "\n",
        "# Kreiranje modela sa ResNet50 arhitekturom\n",
        "base_model = ResNet50(weights='imagenet', include_top=False, input_shape=(img_height, img_width, 3))\n",
        "\n",
        "model = Sequential([\n",
        "    base_model,\n",
        "    GlobalAveragePooling2D(),\n",
        "    Dense(256, activation='relu'),\n",
        "    Dropout(0.5),\n",
        "    Dense(num_classes, activation='softmax')\n",
        "])\n",
        "\n",
        "# Zamrzavanje slojeva baznog modela\n",
        "base_model.trainable = False\n",
        "\n",
        "# Kompilacija modela\n",
        "model.compile(optimizer=Adam(learning_rate=1e-4), loss='categorical_crossentropy', metrics=['accuracy'])\n",
        "\n",
        "# Definisanje callback-ova\n",
        "log_dir = \"/content/drive/My Drive/logs/fit/\" + datetime.datetime.now().strftime(\"%Y%m%d-%H%M%S\")\n",
        "tensorboard_callback = TensorBoard(log_dir=log_dir, histogram_freq=1)\n",
        "early_stopping = EarlyStopping(monitor='val_loss', patience=5, restore_best_weights=True)\n",
        "model_checkpoint = ModelCheckpoint('/content/drive/My Drive/breast_density_model.h5', save_best_only=True)\n",
        "\n",
        "callbacks = [early_stopping, model_checkpoint, tensorboard_callback]"
      ],
      "metadata": {
        "colab": {
          "base_uri": "https://localhost:8080/"
        },
        "id": "TFMGFdXfdBPS",
        "outputId": "a8c56272-2658-4d3b-9ae6-6e10b293318d"
      },
      "execution_count": 16,
      "outputs": [
        {
          "output_type": "stream",
          "name": "stdout",
          "text": [
            "Found 257 images belonging to 4 classes.\n",
            "Found 65 images belonging to 4 classes.\n",
            "Downloading data from https://storage.googleapis.com/tensorflow/keras-applications/resnet/resnet50_weights_tf_dim_ordering_tf_kernels_notop.h5\n",
            "94765736/94765736 [==============================] - 1s 0us/step\n"
          ]
        }
      ]
    },
    {
      "cell_type": "code",
      "source": [
        "# Treniranje modela\n",
        "history = model.fit(\n",
        "    train_generator,\n",
        "    steps_per_epoch=len(train_generator),\n",
        "    validation_data=validation_generator,\n",
        "    validation_steps=len(validation_generator),\n",
        "    epochs=20,\n",
        "    callbacks=callbacks\n",
        ")\n",
        "\n",
        "# Funkcija za prikaz metrika tokom treninga\n",
        "def plot_training(history):\n",
        "    plt.figure(figsize=(12, 6))\n",
        "\n",
        "    # Prikaz gubitka\n",
        "    plt.subplot(1, 2, 1)\n",
        "    plt.plot(history.history['loss'], label='Trening gubitak')\n",
        "    plt.plot(history.history['val_loss'], label='Validacioni gubitak')\n",
        "    plt.xlabel('Epoha')\n",
        "    plt.ylabel('Gubitak')\n",
        "    plt.title('Gubitak tokom treninga')\n",
        "    plt.legend()\n",
        "\n",
        "    # Prikaz tačnosti\n",
        "    plt.subplot(1, 2, 2)\n",
        "    plt.plot(history.history['accuracy'], label='Trening tačnost')\n",
        "    plt.plot(history.history['val_accuracy'], label='Validaciona tačnost')\n",
        "    plt.xlabel('Epoha')\n",
        "    plt.ylabel('Tačnost')\n",
        "    plt.title('Tačnost tokom treninga')\n",
        "    plt.legend()\n",
        "\n",
        "    plt.tight_layout()\n",
        "    plt.show()\n",
        "\n",
        "# Prikaz rezultata treninga\n",
        "plot_training(history)"
      ],
      "metadata": {
        "colab": {
          "base_uri": "https://localhost:8080/",
          "height": 1000
        },
        "id": "WlZIsN8_PYR_",
        "outputId": "6cda26aa-c6a4-4ede-8012-48adb3c70639"
      },
      "execution_count": 17,
      "outputs": [
        {
          "output_type": "stream",
          "name": "stdout",
          "text": [
            "Epoch 1/20\n",
            "17/17 [==============================] - ETA: 0s - loss: 1.7698 - accuracy: 0.2646"
          ]
        },
        {
          "output_type": "stream",
          "name": "stderr",
          "text": [
            "/usr/local/lib/python3.10/dist-packages/keras/src/engine/training.py:3103: UserWarning: You are saving your model as an HDF5 file via `model.save()`. This file format is considered legacy. We recommend using instead the native Keras format, e.g. `model.save('my_model.keras')`.\n",
            "  saving_api.save_model(\n"
          ]
        },
        {
          "output_type": "stream",
          "name": "stdout",
          "text": [
            "\b\b\b\b\b\b\b\b\b\b\b\b\b\b\b\b\b\b\b\b\b\b\b\b\b\b\b\b\b\b\b\b\b\b\b\b\b\b\b\b\b\b\b\b\b\b\b\b\b\b\b\b\b\b\b\b\b\b\b\b\b\b\b\b\b\b\b\b\b\b\b\b\b\b\b\b\b\b\b\b\b\b\r17/17 [==============================] - 146s 6s/step - loss: 1.7698 - accuracy: 0.2646 - val_loss: 1.4385 - val_accuracy: 0.2923\n",
            "Epoch 2/20\n",
            "17/17 [==============================] - 81s 5s/step - loss: 1.7305 - accuracy: 0.2763 - val_loss: 1.4460 - val_accuracy: 0.2308\n",
            "Epoch 3/20\n",
            "17/17 [==============================] - 81s 5s/step - loss: 1.7226 - accuracy: 0.2490 - val_loss: 1.4245 - val_accuracy: 0.2154\n",
            "Epoch 4/20\n",
            "17/17 [==============================] - 80s 5s/step - loss: 1.5506 - accuracy: 0.2568 - val_loss: 1.4241 - val_accuracy: 0.2308\n",
            "Epoch 5/20\n",
            "17/17 [==============================] - 82s 5s/step - loss: 1.6235 - accuracy: 0.2568 - val_loss: 1.4207 - val_accuracy: 0.2462\n",
            "Epoch 6/20\n",
            "17/17 [==============================] - 78s 5s/step - loss: 1.5427 - accuracy: 0.3074 - val_loss: 1.4520 - val_accuracy: 0.3077\n",
            "Epoch 7/20\n",
            "17/17 [==============================] - 79s 5s/step - loss: 1.5411 - accuracy: 0.2412 - val_loss: 1.4207 - val_accuracy: 0.2462\n",
            "Epoch 8/20\n",
            "17/17 [==============================] - 89s 5s/step - loss: 1.5009 - accuracy: 0.2879 - val_loss: 1.4650 - val_accuracy: 0.1846\n",
            "Epoch 9/20\n",
            "17/17 [==============================] - 77s 5s/step - loss: 1.4347 - accuracy: 0.3307 - val_loss: 1.4575 - val_accuracy: 0.2000\n",
            "Epoch 10/20\n",
            "17/17 [==============================] - 79s 5s/step - loss: 1.4081 - accuracy: 0.2802 - val_loss: 1.4576 - val_accuracy: 0.2000\n",
            "Epoch 11/20\n",
            "17/17 [==============================] - 82s 5s/step - loss: 1.4084 - accuracy: 0.3113 - val_loss: 1.4435 - val_accuracy: 0.2000\n",
            "Epoch 12/20\n",
            "17/17 [==============================] - 92s 5s/step - loss: 1.3921 - accuracy: 0.3502 - val_loss: 1.4346 - val_accuracy: 0.2308\n"
          ]
        },
        {
          "output_type": "display_data",
          "data": {
            "text/plain": [
              "<Figure size 1200x600 with 2 Axes>"
            ],
            "image/png": "[encoded data removed]"
          },
          "metadata": {}
        }
      ]
    },
    {
      "cell_type": "code",
      "source": [
        "import numpy as np\n",
        "import matplotlib.pyplot as plt\n",
        "from sklearn.metrics import confusion_matrix, classification_report\n",
        "import itertools  # Import za prikaz matrice konfuzije\n",
        "\n",
        "# Predikcija na testnom skupu\n",
        "test_generator = test_datagen.flow_from_directory(\n",
        "    test_dir,\n",
        "    target_size=(img_height, img_width),\n",
        "    batch_size=batch_size,\n",
        "    class_mode='categorical',\n",
        "    color_mode='rgb',\n",
        "    shuffle=False  # Važno je da testni generator nije promešan kako bi se sačuvali redosledi\n",
        ")\n",
        "\n",
        "test_steps = len(test_generator)\n",
        "predictions = model.predict(test_generator, steps=test_steps)\n",
        "predicted_classes = np.argmax(predictions, axis=1)\n",
        "\n",
        "# Izračunavanje matrice konfuzije\n",
        "true_classes = test_generator.classes\n",
        "class_labels = list(test_generator.class_indices.keys())\n",
        "\n",
        "conf_matrix = confusion_matrix(true_classes, predicted_classes)\n",
        "print('Matrica konfuzije:')\n",
        "print(conf_matrix)\n",
        "\n",
        "# Prikaži matricu konfuzije\n",
        "plt.figure(figsize=(8, 6))\n",
        "plt.imshow(conf_matrix, interpolation='nearest', cmap=plt.get_cmap('Blues'))\n",
        "plt.title('Matrica konfuzije')\n",
        "plt.colorbar()\n",
        "\n",
        "tick_marks = np.arange(len(class_labels))\n",
        "plt.xticks(tick_marks, class_labels, rotation=45)\n",
        "plt.yticks(tick_marks, class_labels)\n",
        "\n",
        "thresh = conf_matrix.max() / 2.\n",
        "for i, j in itertools.product(range(conf_matrix.shape[0]), range(conf_matrix.shape[1])):\n",
        "    plt.text(j, i, format(conf_matrix[i, j], 'd'),\n",
        "             horizontalalignment=\"center\",\n",
        "             color=\"white\" if conf_matrix[i, j] > thresh else \"black\")\n",
        "\n",
        "plt.tight_layout()\n",
        "plt.ylabel('Stvarna klasa')\n",
        "plt.xlabel('Predviđena klasa')\n",
        "plt.show()\n",
        "\n",
        "# Prikaz metrika\n",
        "print(classification_report(true_classes, predicted_classes, target_names=class_labels))\n"
      ],
      "metadata": {
        "colab": {
          "base_uri": "https://localhost:8080/",
          "height": 948
        },
        "id": "O9j522uOi2MB",
        "outputId": "9370c046-c8f5-48c0-e7c3-8b97727313cc"
      },
      "execution_count": 20,
      "outputs": [
        {
          "output_type": "stream",
          "name": "stdout",
          "text": [
            "Found 65 images belonging to 4 classes.\n",
            "5/5 [==============================] - 18s 3s/step\n",
            "Matrica konfuzije:\n",
            "[[3 1 6 6]\n",
            " [4 1 7 4]\n",
            " [4 3 5 5]\n",
            " [5 0 4 7]]\n"
          ]
        },
        {
          "output_type": "display_data",
          "data": {
            "text/plain": [
              "<Figure size 800x600 with 2 Axes>"
            ],
            "image/png": "[encoded data removed]"
          },
          "metadata": {}
        },
        {
          "output_type": "stream",
          "name": "stdout",
          "text": [
            "              precision    recall  f1-score   support\n",
            "\n",
            "           A       0.19      0.19      0.19        16\n",
            "           B       0.20      0.06      0.10        16\n",
            "           C       0.23      0.29      0.26        17\n",
            "           D       0.32      0.44      0.37        16\n",
            "\n",
            "    accuracy                           0.25        65\n",
            "   macro avg       0.23      0.25      0.23        65\n",
            "weighted avg       0.23      0.25      0.23        65\n",
            "\n"
          ]
        }
      ]
    }
  ]
}